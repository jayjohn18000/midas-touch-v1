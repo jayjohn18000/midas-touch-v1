{
 "cells": [
  {
   "cell_type": "code",
   "execution_count": 4,
   "id": "f0567a2c-65ff-4091-8131-9e4383f7bc33",
   "metadata": {},
   "outputs": [
    {
     "data": {
      "text/html": [
       "<div>\n",
       "<style scoped>\n",
       "    .dataframe tbody tr th:only-of-type {\n",
       "        vertical-align: middle;\n",
       "    }\n",
       "\n",
       "    .dataframe tbody tr th {\n",
       "        vertical-align: top;\n",
       "    }\n",
       "\n",
       "    .dataframe thead th {\n",
       "        text-align: right;\n",
       "    }\n",
       "</style>\n",
       "<table border=\"1\" class=\"dataframe\">\n",
       "  <thead>\n",
       "    <tr style=\"text-align: right;\">\n",
       "      <th></th>\n",
       "      <th>Start Equity</th>\n",
       "      <th>End Equity</th>\n",
       "      <th>Percent Return</th>\n",
       "      <th>Total Trades</th>\n",
       "      <th>Win Rate</th>\n",
       "      <th>Sharpe Ratio</th>\n",
       "      <th>Max Drawdown</th>\n",
       "    </tr>\n",
       "    <tr>\n",
       "      <th>Strategy</th>\n",
       "      <th></th>\n",
       "      <th></th>\n",
       "      <th></th>\n",
       "      <th></th>\n",
       "      <th></th>\n",
       "      <th></th>\n",
       "      <th></th>\n",
       "    </tr>\n",
       "  </thead>\n",
       "  <tbody>\n",
       "    <tr>\n",
       "      <th>rsi</th>\n",
       "      <td>10000.0</td>\n",
       "      <td>13312.389259</td>\n",
       "      <td>33.124074</td>\n",
       "      <td>11.296296</td>\n",
       "      <td>60.953333</td>\n",
       "      <td>0.301852</td>\n",
       "      <td>-58.776296</td>\n",
       "    </tr>\n",
       "    <tr>\n",
       "      <th>sma_crossover</th>\n",
       "      <td>10000.0</td>\n",
       "      <td>15036.431111</td>\n",
       "      <td>50.364815</td>\n",
       "      <td>28.925926</td>\n",
       "      <td>32.406296</td>\n",
       "      <td>0.262963</td>\n",
       "      <td>-54.827407</td>\n",
       "    </tr>\n",
       "  </tbody>\n",
       "</table>\n",
       "</div>"
      ],
      "text/plain": [
       "               Start Equity    End Equity  Percent Return  Total Trades  \\\n",
       "Strategy                                                                  \n",
       "rsi                 10000.0  13312.389259       33.124074     11.296296   \n",
       "sma_crossover       10000.0  15036.431111       50.364815     28.925926   \n",
       "\n",
       "                Win Rate  Sharpe Ratio  Max Drawdown  \n",
       "Strategy                                              \n",
       "rsi            60.953333      0.301852    -58.776296  \n",
       "sma_crossover  32.406296      0.262963    -54.827407  "
      ]
     },
     "metadata": {},
     "output_type": "display_data"
    }
   ],
   "source": [
    "import pandas as pd\n",
    "\n",
    "# Load the CSV\n",
    "df = pd.read_csv(\"results/summary_all.csv\", index_col=0)\n",
    "\n",
    "# Convert each column to numeric where possible, skipping 'Strategy' and other non-numeric columns\n",
    "for col in df.columns:\n",
    "    if col != \"Strategy\":\n",
    "        df[col] = pd.to_numeric(df[col], errors='coerce')\n",
    "\n",
    "# Group by 'Strategy' and compute averages\n",
    "strategy_averages = df.groupby(\"Strategy\").mean(numeric_only=True)\n",
    "\n",
    "# Display the result\n",
    "display(strategy_averages)\n"
   ]
  }
 ],
 "metadata": {
  "kernelspec": {
   "display_name": "Python (midas-venv)",
   "language": "python",
   "name": "midas-venv"
  },
  "language_info": {
   "codemirror_mode": {
    "name": "ipython",
    "version": 3
   },
   "file_extension": ".py",
   "mimetype": "text/x-python",
   "name": "python",
   "nbconvert_exporter": "python",
   "pygments_lexer": "ipython3",
   "version": "3.11.3"
  }
 },
 "nbformat": 4,
 "nbformat_minor": 5
}
